{
 "cells": [
  {
   "cell_type": "code",
   "execution_count": 1,
   "id": "48b52a96-ec9f-438f-9e8f-3f521a8b40d4",
   "metadata": {},
   "outputs": [],
   "source": [
    "import json"
   ]
  },
  {
   "cell_type": "code",
   "execution_count": 2,
   "id": "659c3aff-fc02-4380-a9b2-d9176a49a2a6",
   "metadata": {},
   "outputs": [],
   "source": [
    "from linebot import LineBotApi\n",
    "from linebot.models import TextSendMessage"
   ]
  },
  {
   "cell_type": "code",
   "execution_count": 3,
   "id": "8834d1ed-ab20-4b5e-b315-77039370bd7a",
   "metadata": {},
   "outputs": [],
   "source": [
    "file = open('info.json','r')\n",
    "info = json.load(file)"
   ]
  },
  {
   "cell_type": "code",
   "execution_count": 4,
   "id": "abe95785-4556-4f05-a194-78931973daf8",
   "metadata": {},
   "outputs": [],
   "source": [
    "CHANNELACCESSTOKEN = info[\"CHANNELACCESSTOKEN\"]\n",
    "line_bot_api = LineBotApi(CHANNELACCESSTOKEN)"
   ]
  },
  {
   "cell_type": "code",
   "execution_count": 5,
   "id": "8647844b-9903-472a-b091-f774ff50300b",
   "metadata": {},
   "outputs": [],
   "source": [
    "def main():\n",
    "    USERID = info[\"USERID\"]\n",
    "    messages = TextSendMessage(text=\"おっはよー\")\n",
    "    line_bot_api.push_message(USERID,messages=messages)\n",
    "    \n",
    "if __name__== \"__main__\":\n",
    "    main()"
   ]
  },
  {
   "cell_type": "code",
   "execution_count": null,
   "id": "96d737c2-cf81-4afd-8d11-12df0e50f30f",
   "metadata": {},
   "outputs": [],
   "source": []
  }
 ],
 "metadata": {
  "kernelspec": {
   "display_name": "Python 3",
   "language": "python",
   "name": "python3"
  },
  "language_info": {
   "codemirror_mode": {
    "name": "ipython",
    "version": 3
   },
   "file_extension": ".py",
   "mimetype": "text/x-python",
   "name": "python",
   "nbconvert_exporter": "python",
   "pygments_lexer": "ipython3",
   "version": "3.8.8"
  }
 },
 "nbformat": 4,
 "nbformat_minor": 5
}
